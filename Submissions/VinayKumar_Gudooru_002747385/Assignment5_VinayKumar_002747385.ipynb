{
 "cells": [
  {
   "cell_type": "markdown",
   "id": "e4377f5e-14be-49bd-875f-b3399c0cdee5",
   "metadata": {},
   "source": [
    "# Assignment 5"
   ]
  },
  {
   "cell_type": "markdown",
   "id": "27ae8046-3d49-45c6-82a3-69ed2379a1fc",
   "metadata": {},
   "source": [
    "## Question 1\n",
    "\n",
    "What is the time complexity of an algorithm?\n",
    "\n",
    "a. The time it takes to write the algorithm\n",
    "\n",
    "b. The amount of time the algorithm takes to execute\n",
    "\n",
    "c. The size of the input data\n",
    "\n",
    "d. The number of lines of code in the algorithm"
   ]
  },
  {
   "cell_type": "markdown",
   "id": "0cd540fe-702d-454d-b570-325e5d25561c",
   "metadata": {},
   "source": [
    "## Answer:\n",
    "\n",
    "b. The amount of time the algorithm takes to execute\n",
    "\n",
    "\n",
    "Explanation: The time complexity of an algorithm represents the amount of time the algorithm takes to execute."
   ]
  },
  {
   "cell_type": "markdown",
   "id": "d74378b5-6527-4ff6-bdd6-ebcf0228f784",
   "metadata": {},
   "source": [
    "## Question 2\n",
    "\n",
    "Which of the following is not a basic operation in algorithm analysis?\n",
    "\n",
    "a. Assigning a value to a variable\n",
    "\n",
    "b. Comparing two numbers\n",
    "\n",
    "c. Performing a loop\n",
    "\n",
    "d. Printing the result"
   ]
  },
  {
   "cell_type": "markdown",
   "id": "c77ef06c-821f-44cf-a041-5a66d195e6d0",
   "metadata": {},
   "source": [
    "## Answer:\n",
    "\n",
    "d. Printing the result\n",
    "\n",
    "Explanation: Printing the result is not a basic operation in algorithm analysis; it is more related to input/output operations."
   ]
  },
  {
   "cell_type": "markdown",
   "id": "acad4b32-8270-4cd9-b292-9ef7c12bd687",
   "metadata": {},
   "source": [
    "## Question 3\n",
    "\n",
    "What does \"Big-O\" notation represent in algorithm analysis?\n",
    "\n",
    "a. Best-case performance\n",
    "\n",
    "b. Worst-case performance\n",
    "\n",
    "c. Average-case performance\n",
    "\n",
    "d. All of the above"
   ]
  },
  {
   "cell_type": "markdown",
   "id": "ba7512e4-4f47-4d21-962e-439bcb9118e2",
   "metadata": {},
   "source": [
    "## Answer: \n",
    "\n",
    "d.  All of the above\n",
    "\n",
    "Explanation: \"Big-O\" notation is used to represent the upper bound on the growth rate of an algorithm. It can be used for best-case, worst-case, and average-case analysis."
   ]
  },
  {
   "cell_type": "markdown",
   "id": "5892e757-6d5c-44e7-a288-c2a59b10f760",
   "metadata": {},
   "source": [
    "## Question 4\n",
    "\n",
    "Which data structure uses Last In, First Out (LIFO) order?\n",
    "\n",
    "a. Queue\n",
    "\n",
    "b. Stack\n",
    "\n",
    "c. Linked List\n",
    "\n",
    "d. Array"
   ]
  },
  {
   "cell_type": "markdown",
   "id": "6f51d000-b828-446d-8eeb-0d609662cd90",
   "metadata": {},
   "source": [
    "## Answer: \n",
    "\n",
    "b.  Stack\n",
    "\n",
    "Explanation: A stack follows Last In, First Out (LIFO) order, where the last element added is the first one to be removed."
   ]
  },
  {
   "cell_type": "markdown",
   "id": "f284fab1-7430-4b67-a83b-2f0d8627ce56",
   "metadata": {},
   "source": [
    "## Question 5\n",
    "\n",
    "In an algorithm, what is a recurrence relation used for?\n",
    "\n",
    "a. To describe the relationship between input and output\n",
    "\n",
    "b. To express an algorithm's time complexity\n",
    "\n",
    "c. To implement recursive functions\n",
    "\n",
    "d. To handle exceptions in the code"
   ]
  },
  {
   "cell_type": "markdown",
   "id": "33c30b5a-45ac-4007-9cf0-704cfbec53b2",
   "metadata": {},
   "source": [
    "## Answer:\n",
    "\n",
    "d. To handle exceptions in the code\n",
    "\n",
    "Explanation: A recurrence relation is used to express an algorithm's time complexity, especially in the context of recursive algorithms."
   ]
  },
  {
   "cell_type": "markdown",
   "id": "008a9023-3300-451c-9059-af9e6f2aa5ca",
   "metadata": {},
   "source": [
    "## Question 6\n",
    "\n",
    "Which sorting algorithm has a time complexity of O(n log n) in the average and worst cases?\n",
    "\n",
    "a. Bubble Sort\n",
    "\n",
    "b. Insertion Sort\n",
    "\n",
    "c. Merge Sort\n",
    "\n",
    "d. Selection Sort"
   ]
  },
  {
   "cell_type": "markdown",
   "id": "5708a7f4-1677-468a-8fa6-ddc1ad2ce6cf",
   "metadata": {},
   "source": [
    "## Answer:\n",
    "\n",
    "c. Merge Sort\n",
    "\n",
    "Explanation: Merge Sort has a time complexity of O(n log n) in both the average and worst cases."
   ]
  },
  {
   "cell_type": "markdown",
   "id": "f8af1543-0110-4d56-b8fb-e06022a8f0ee",
   "metadata": {},
   "source": [
    "## Question 7\n",
    "\n",
    "What is the primary purpose of dynamic programming in algorithms?\n",
    "\n",
    "a. Breaking down a problem into smaller subproblems\n",
    "\n",
    "b. Allocating memory at runtime\n",
    "\n",
    "c. Optimizing space complexity\n",
    "\n",
    "d. Minimizing the use of recursion"
   ]
  },
  {
   "cell_type": "markdown",
   "id": "dd697147-5bc8-470d-bfd9-49e7b646af9e",
   "metadata": {},
   "source": [
    "## Answer:\n",
    "\n",
    "a. Breaking down a problem into smaller subproblems\n",
    "\n",
    "Explanation: Dynamic programming involves breaking down a problem into smaller subproblems and solving each subproblem only once."
   ]
  },
  {
   "cell_type": "markdown",
   "id": "881255d0-8560-4899-9634-12796c83b639",
   "metadata": {},
   "source": [
    "## Question 8\n",
    "\n",
    "Which of the following is an example of a greedy algorithm?\n",
    "\n",
    "a. Dijkstra's algorithm\n",
    "\n",
    "b. Breadth-first search\n",
    "\n",
    "c. Prim's algorithm\n",
    "\n",
    "d. Huffman coding"
   ]
  },
  {
   "cell_type": "markdown",
   "id": "24dd2c92-200a-4498-8cfe-0ea4e79eb15e",
   "metadata": {},
   "source": [
    "## Answer:\n",
    "\n",
    "d. Huffman coding\n",
    "\n",
    "Explanation: Huffman coding is an example of a greedy algorithm, as it makes locally optimal choices at each stage to achieve a globally optimal solution."
   ]
  },
  {
   "cell_type": "markdown",
   "id": "71091f73-84ec-4079-a42d-f600ebd3a708",
   "metadata": {},
   "source": [
    "## Question 9\n",
    "\n",
    "What is the purpose of the \"else\" statement in a conditional structure?\n",
    "\n",
    "a. To specify the action to be taken if the condition is true\n",
    "\n",
    "b. To specify the action to be taken if the condition is false\n",
    "\n",
    "c. To terminate the program\n",
    "\n",
    "d. To handle errors in the code"
   ]
  },
  {
   "cell_type": "markdown",
   "id": "2710afa7-b714-492a-87b6-ca60abd10510",
   "metadata": {},
   "source": [
    "## Answer:\n",
    "\n",
    "b. To specify the action to be taken if the condition is false\n",
    "\n",
    "Explanation: The \"else\" statement specifies the action to be taken if the condition in the \"if\" statement is false."
   ]
  },
  {
   "cell_type": "markdown",
   "id": "2b00fa15-1614-4d93-a0aa-32d6c5674bde",
   "metadata": {},
   "source": [
    "## Question 10\n",
    "\n",
    "What is the time complexity of linear search in an unsorted list?\n",
    "\n",
    "a. O(1)\n",
    "\n",
    "b. O(log n)\n",
    "\n",
    "c. O(n)\n",
    "\n",
    "d. O(n^2)"
   ]
  },
  {
   "cell_type": "markdown",
   "id": "1a541753-a5ff-4f2a-b05f-67f2e1d21a81",
   "metadata": {},
   "source": [
    "## Answer:\n",
    "\n",
    "c. O(n)\n",
    "\n",
    "Explanation: Linear search in an unsorted list has a time complexity of O(n)."
   ]
  },
  {
   "cell_type": "markdown",
   "id": "c70248ab-6473-4709-a2b2-ecb88acd6318",
   "metadata": {},
   "source": [
    "## Question 11\n",
    "\n",
    "Which of the following is a divide-and-conquer algorithm?\n",
    "\n",
    "a. QuickSort\n",
    "\n",
    "b. Bubble Sort\n",
    "\n",
    "c. Insertion Sort\n",
    "\n",
    "d. Selection Sort"
   ]
  },
  {
   "cell_type": "markdown",
   "id": "40ce41a0-0b46-4dfc-98d6-eb4b245ed459",
   "metadata": {},
   "source": [
    "## Answer:\n",
    "\n",
    "a. QuickSort \n",
    "\n",
    "Explanation: QuickSort is a classic example of a divide-and-conquer algorithm."
   ]
  },
  {
   "cell_type": "markdown",
   "id": "770fe405-41f6-4396-8519-0002b26b13a4",
   "metadata": {},
   "source": [
    "## Question 12\n",
    "\n",
    "What is the main advantage of using a linked list over an array?\n",
    "\n",
    "a. Constant-time access to elements\n",
    "\n",
    "b. Contiguous memory allocation\n",
    "\n",
    "c. Dynamic size\n",
    "\n",
    "d. Random access"
   ]
  },
  {
   "cell_type": "markdown",
   "id": "6606b673-53cd-44b6-9206-1b706fb4e011",
   "metadata": {},
   "source": [
    "## Answer:\n",
    "\n",
    "c. Dynamic size\n",
    "\n",
    "Explanation: A linked list has a dynamic size, meaning elements can be easily added or removed without the need for contiguous memory."
   ]
  },
  {
   "cell_type": "markdown",
   "id": "06420b24-8ef8-45c7-8441-2a8c193a48d8",
   "metadata": {},
   "source": [
    "## Question 13\n",
    "\n",
    "What is the purpose of a hash function in hash tables?\n",
    "\n",
    "a. To generate random numbers\n",
    "\n",
    "b. To convert a key into an array index\n",
    "\n",
    "c. To sort elements in the table\n",
    "\n",
    "d. To handle collisions"
   ]
  },
  {
   "cell_type": "markdown",
   "id": "c85aaf24-8f85-484c-baa0-880b80b092ca",
   "metadata": {},
   "source": [
    "## Answer:\n",
    "\n",
    "b. To convert a key into an array index\n",
    "\n",
    "Explanation: A hash function is used to convert a key into an array index in hash tables."
   ]
  },
  {
   "cell_type": "markdown",
   "id": "dc6bd407-c65f-4f77-a172-ee1580afa340",
   "metadata": {},
   "source": [
    "## Question 14\n",
    "\n",
    "What is the significance of the \"break\" statement in a loop?\n",
    "\n",
    "a. It terminates the loop and continues with the next iteration.\n",
    "\n",
    "b. It exits the entire program.\n",
    "\n",
    "c. It skips the current iteration and continues with the next one.\n",
    "\n",
    "d. It signals an error in the loop."
   ]
  },
  {
   "cell_type": "markdown",
   "id": "764e772b-bc1b-45df-bcec-395ffc0c9bf7",
   "metadata": {},
   "source": [
    "## Answer:\n",
    "\n",
    "a. It terminates the loop and continues with the next iteration.\n",
    "\n",
    "Explanation: The \"break\" statement terminates the loop and continues with the next iteration."
   ]
  },
  {
   "cell_type": "markdown",
   "id": "bc2e3f4f-211b-406a-b555-2b283c59743d",
   "metadata": {},
   "source": [
    "## Question 15\n",
    "\n",
    "Which of the following is not a type of tree traversal?\n",
    "\n",
    "a. In-order\n",
    "\n",
    "b. Pre-order\n",
    "\n",
    "c. Post-order\n",
    "\n",
    "d. Side-order"
   ]
  },
  {
   "cell_type": "markdown",
   "id": "f635229c-1217-4e4c-a7d0-92b0739de3ef",
   "metadata": {},
   "source": [
    "## Answer:\n",
    "\n",
    "d. Side-order\n",
    "\n",
    "Explanation: \"Side-order\" is not a standard type of tree traversal."
   ]
  },
  {
   "cell_type": "markdown",
   "id": "2d5bae9d-c5f0-4b73-82ad-9221c3badb97",
   "metadata": {},
   "source": [
    "## Question 16\n",
    "\n",
    "What is the purpose of a pointer in programming?\n",
    "\n",
    "a. To store integer values\n",
    "\n",
    "b. To access the address of a variable\n",
    "\n",
    "c. To allocate memory dynamically\n",
    "\n",
    "d. To perform mathematical calculations"
   ]
  },
  {
   "cell_type": "markdown",
   "id": "1c77d467-b225-48a2-bfd1-39853f9baaba",
   "metadata": {},
   "source": [
    "## Answer:\n",
    "\n",
    "b. To access the address of a variable\n",
    "\n",
    "Explanation: A pointer is used to access the address of a variable in memory."
   ]
  },
  {
   "cell_type": "markdown",
   "id": "3bf6850c-3796-4edf-b116-8e57577ee818",
   "metadata": {},
   "source": [
    "## Question 17\n",
    "\n",
    "What is the significance of the \"NULL\" value in a linked list?\n",
    "\n",
    "a. It represents the end of the list.\n",
    "\n",
    "b. It indicates an error in the list.\n",
    "\n",
    "c. It signifies an empty list.\n",
    "\n",
    "d. It points to the first element in the list."
   ]
  },
  {
   "cell_type": "markdown",
   "id": "d2412d62-8f72-4cdd-9489-64f1d32c77ae",
   "metadata": {},
   "source": [
    "## Answer: \n",
    "\n",
    "a. It represents the end of the list.\n",
    "\n",
    "Explanation: In a linked list, a NULL value typically represents the end of the list."
   ]
  },
  {
   "cell_type": "markdown",
   "id": "a64841d5-0fec-4182-8c43-ed93302d4e99",
   "metadata": {},
   "source": [
    "## Question 18\n",
    "\n",
    "Which algorithm is used for finding the shortest path in a weighted graph?\n",
    "\n",
    "a. Depth-first search\n",
    "\n",
    "b. Breadth-first search\n",
    "\n",
    "c. Dijkstra's algorithm\n",
    "\n",
    "d. Prim's algorithm"
   ]
  },
  {
   "cell_type": "markdown",
   "id": "14719052-4f99-4f52-bd79-fdd7400d0b24",
   "metadata": {},
   "source": [
    "## Answer:\n",
    "\n",
    "c. Dijkstra's algorithm\n",
    "\n",
    "Explanation: Dijkstra's algorithm is used for finding the shortest path in a weighted graph."
   ]
  },
  {
   "cell_type": "markdown",
   "id": "3b3c02f2-1c2a-465c-b226-ea2ab22366f5",
   "metadata": {},
   "source": [
    "## Question 19\n",
    "\n",
    "What is the purpose of a semaphore in concurrent programming?\n",
    "\n",
    "a. To control access to shared resources\n",
    "\n",
    "b. To synchronize threads\n",
    "\n",
    "c. To allocate memory\n",
    "\n",
    "d. To handle exceptions in threads"
   ]
  },
  {
   "cell_type": "markdown",
   "id": "b56d3999-2da9-4224-8412-87bb3566851b",
   "metadata": {},
   "source": [
    "## Answer:\n",
    "\n",
    "a. To control access to shared resources\n",
    "\n",
    "Explanation: Semaphores are used to control access to shared resources in concurrent programming."
   ]
  },
  {
   "cell_type": "markdown",
   "id": "74efdebb-d932-46e0-9d35-70c01d56501a",
   "metadata": {},
   "source": [
    "## Question 20\n",
    "\n",
    "Which of the following is an example of a stable sorting algorithm?\n",
    "\n",
    "a. QuickSort\n",
    "\n",
    "b. MergeSort\n",
    "\n",
    "c. HeapSort\n",
    "\n",
    "d. Selection Sort"
   ]
  },
  {
   "cell_type": "markdown",
   "id": "1f15b624-6f9d-455a-832f-a54b1d41508c",
   "metadata": {},
   "source": [
    "## Answer:\n",
    "\n",
    "b. MergeSort\n",
    "\n",
    "Explanation: MergeSort is an example of a stable sorting algorithm, meaning equal elements maintain their relative order in the sorted output."
   ]
  }
 ],
 "metadata": {
  "kernelspec": {
   "display_name": "Python 3 (ipykernel)",
   "language": "python",
   "name": "python3"
  },
  "language_info": {
   "codemirror_mode": {
    "name": "ipython",
    "version": 3
   },
   "file_extension": ".py",
   "mimetype": "text/x-python",
   "name": "python",
   "nbconvert_exporter": "python",
   "pygments_lexer": "ipython3",
   "version": "3.11.0"
  }
 },
 "nbformat": 4,
 "nbformat_minor": 5
}
